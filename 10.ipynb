{
 "cells": [
  {
   "cell_type": "markdown",
   "metadata": {},
   "source": [
    "Практическое задание к уроку № 10"
   ]
  },
  {
   "cell_type": "code",
   "execution_count": 10,
   "metadata": {},
   "outputs": [],
   "source": [
    "import cv2\n",
    "import glob\n",
    "from google.protobuf.json_format import MessageToDict\n",
    "import mediapipe as mp\n",
    "import numpy as np\n",
    "import pandas as pd\n",
    "import re\n",
    "from sklearn.linear_model import LogisticRegression\n",
    "from sklearn.metrics import classification_report\n",
    "from sklearn.model_selection import train_test_split\n",
    "from sklearn.preprocessing import MinMaxScaler"
   ]
  },
  {
   "cell_type": "code",
   "execution_count": 11,
   "metadata": {},
   "outputs": [],
   "source": [
    "mp_drawing = mp.solutions.drawing_utils\n",
    "mp_drawing_styles = mp.solutions.drawing_styles\n",
    "mp_face_detection = mp.solutions.face_detection\n",
    "mp_hands = mp.solutions.hands"
   ]
  },
  {
   "cell_type": "markdown",
   "metadata": {},
   "source": [
    "В качестве датасета для распознавания жестов используем один из  \n",
    "датасетов kaggle. (https://www.kaggle.com/datasets/gti-upm/leapgestrecog)  \n",
    "В этом датасете 10 разных людей показывают 10 жестов. Из этих 10 жестов  \n",
    "мы выберем 3, на которые будет реагировать модель. Также возьмём еще 3 жеста,  \n",
    "которые будут принадлежать к классу разное, чтобы модель понимала, что кроме  \n",
    "нужных нам жестов, пользователь может показывать и другие, а не причисляла  \n",
    "любой жест к одному из трёх целевых.  \n",
    "  \n",
    "Получим необходимые имена файлов, относящиеся к 6 классам:  "
   ]
  },
  {
   "cell_type": "code",
   "execution_count": 12,
   "metadata": {},
   "outputs": [],
   "source": [
    "files = glob.glob('./leapGestRecog/*/0[13457]*/*') + glob.glob('./leapGestRecog/*/10*/*')\n"
   ]
  },
  {
   "cell_type": "markdown",
   "metadata": {},
   "source": [
    "Напишем функцию, которая на вход будет принимать особые точки жеста,  \n",
    "а возвращать их масштабированные координаты. При формировании обучающего  \n",
    "датафрейма будем ещё добавлять таргет:"
   ]
  },
  {
   "cell_type": "code",
   "execution_count": 13,
   "metadata": {},
   "outputs": [],
   "source": [
    "def landmarks_to_df(landmarks, df=None, target=None):\n",
    "    \n",
    "    # Переводим в привычный словарь\n",
    "    landmarks = MessageToDict(landmarks[0])['landmark']\n",
    "    \n",
    "    # Заполняем списки с координатами\n",
    "    x = np.empty(len(landmarks))\n",
    "    y = np.empty(len(landmarks))\n",
    "    z = np.empty(len(landmarks))\n",
    "    \n",
    "    for i, v in enumerate(landmarks):\n",
    "        x[i] = v['x']\n",
    "        y[i] = v['y']\n",
    "        z[i] = v['z']\n",
    "    \n",
    "    # Масшабируем координаты, чтобы не имело значения, в какой\n",
    "    # области кадра наш жест\n",
    "    scaler = MinMaxScaler()\n",
    "    x = scaler.fit_transform(x.reshape(-1, 1)).reshape(1, -1)\n",
    "    y = scaler.fit_transform(y.reshape(-1, 1)).reshape(1, -1)\n",
    "    z = scaler.fit_transform(z.reshape(-1, 1)).reshape(1, -1)\n",
    "    \n",
    "    # Подготавливаем и возвращаем датасет\n",
    "    if target is not None:\n",
    "        features = np.c_[x, y, z, target]\n",
    "    else:\n",
    "        features = np.c_[x, y, z]\n",
    "    \n",
    "    if df is not None:\n",
    "        df = pd.concat((df, pd.DataFrame(features)), axis=0)\n",
    "    else:\n",
    "        df = pd.DataFrame(features)\n",
    "    \n",
    "    return df"
   ]
  },
  {
   "cell_type": "markdown",
   "metadata": {},
   "source": [
    "Чтобы внести координаты особых точек в датафрейм, сначала нужно найти  \n",
    "эти точки. Для этого прогоняем все обучающие картинки через фреймворк,  \n",
    "а затем вносим их обработанные координаты в датафрейм. Также присваиваем  \n",
    "значения таргета жестам, где 3 целевых жеста получают свой класс, а  \n",
    "остальные 3 жеста получают нулевой класс. Картинки, где фреймфорк не  \n",
    "обнаружил жест, пропускаются.  "
   ]
  },
  {
   "cell_type": "code",
   "execution_count": 14,
   "metadata": {},
   "outputs": [],
   "source": [
    "mapping_dict = {'03': 1, '07': 2, '10': 3}\n",
    "df = pd.DataFrame()\n",
    "\n",
    "with mp_hands.Hands(max_num_hands=1, static_image_mode=True) as hands:\n",
    "    \n",
    "        for idx, file in enumerate(files):\n",
    "            image = cv2.imread(file)\n",
    "            results = hands.process(cv2.cvtColor(image, cv2.COLOR_BGR2RGB))\n",
    "\n",
    "            if not results.multi_hand_landmarks:\n",
    "                continue\n",
    "            \n",
    "            target = mapping_dict.get(re.findall('frame_\\d{2}_(\\d{2})', file)[0], 0)\n",
    "            df = landmarks_to_df(results.multi_hand_landmarks, df, target)"
   ]
  },
  {
   "cell_type": "markdown",
   "metadata": {},
   "source": [
    "Посмотрим на получившийся датафрейм:"
   ]
  },
  {
   "cell_type": "code",
   "execution_count": 15,
   "metadata": {},
   "outputs": [
    {
     "data": {
      "text/html": [
       "<div>\n",
       "<style scoped>\n",
       "    .dataframe tbody tr th:only-of-type {\n",
       "        vertical-align: middle;\n",
       "    }\n",
       "\n",
       "    .dataframe tbody tr th {\n",
       "        vertical-align: top;\n",
       "    }\n",
       "\n",
       "    .dataframe thead th {\n",
       "        text-align: right;\n",
       "    }\n",
       "</style>\n",
       "<table border=\"1\" class=\"dataframe\">\n",
       "  <thead>\n",
       "    <tr style=\"text-align: right;\">\n",
       "      <th></th>\n",
       "      <th>0</th>\n",
       "      <th>1</th>\n",
       "      <th>2</th>\n",
       "      <th>3</th>\n",
       "      <th>4</th>\n",
       "      <th>5</th>\n",
       "      <th>6</th>\n",
       "      <th>7</th>\n",
       "      <th>8</th>\n",
       "      <th>9</th>\n",
       "      <th>...</th>\n",
       "      <th>54</th>\n",
       "      <th>55</th>\n",
       "      <th>56</th>\n",
       "      <th>57</th>\n",
       "      <th>58</th>\n",
       "      <th>59</th>\n",
       "      <th>60</th>\n",
       "      <th>61</th>\n",
       "      <th>62</th>\n",
       "      <th>63</th>\n",
       "    </tr>\n",
       "  </thead>\n",
       "  <tbody>\n",
       "    <tr>\n",
       "      <th>0</th>\n",
       "      <td>0.026055</td>\n",
       "      <td>0.000000</td>\n",
       "      <td>0.107609</td>\n",
       "      <td>0.247835</td>\n",
       "      <td>0.398601</td>\n",
       "      <td>0.489592</td>\n",
       "      <td>0.618835</td>\n",
       "      <td>0.509207</td>\n",
       "      <td>0.413254</td>\n",
       "      <td>0.558857</td>\n",
       "      <td>...</td>\n",
       "      <td>0.000000</td>\n",
       "      <td>0.692860</td>\n",
       "      <td>0.264774</td>\n",
       "      <td>0.064647</td>\n",
       "      <td>0.042940</td>\n",
       "      <td>0.478142</td>\n",
       "      <td>0.244879</td>\n",
       "      <td>0.138012</td>\n",
       "      <td>0.101530</td>\n",
       "      <td>2.0</td>\n",
       "    </tr>\n",
       "    <tr>\n",
       "      <th>0</th>\n",
       "      <td>0.000000</td>\n",
       "      <td>0.322499</td>\n",
       "      <td>0.609520</td>\n",
       "      <td>0.829921</td>\n",
       "      <td>1.000000</td>\n",
       "      <td>0.263444</td>\n",
       "      <td>0.520810</td>\n",
       "      <td>0.735434</td>\n",
       "      <td>0.914113</td>\n",
       "      <td>0.192786</td>\n",
       "      <td>...</td>\n",
       "      <td>0.008541</td>\n",
       "      <td>0.967427</td>\n",
       "      <td>0.666530</td>\n",
       "      <td>0.276842</td>\n",
       "      <td>0.031134</td>\n",
       "      <td>0.887575</td>\n",
       "      <td>0.585671</td>\n",
       "      <td>0.330568</td>\n",
       "      <td>0.158112</td>\n",
       "      <td>2.0</td>\n",
       "    </tr>\n",
       "    <tr>\n",
       "      <th>0</th>\n",
       "      <td>0.000000</td>\n",
       "      <td>0.000762</td>\n",
       "      <td>0.161427</td>\n",
       "      <td>0.402390</td>\n",
       "      <td>0.614149</td>\n",
       "      <td>0.080991</td>\n",
       "      <td>0.258220</td>\n",
       "      <td>0.422858</td>\n",
       "      <td>0.569542</td>\n",
       "      <td>0.243840</td>\n",
       "      <td>...</td>\n",
       "      <td>0.087132</td>\n",
       "      <td>1.000000</td>\n",
       "      <td>0.606149</td>\n",
       "      <td>0.226274</td>\n",
       "      <td>0.000000</td>\n",
       "      <td>0.989427</td>\n",
       "      <td>0.608881</td>\n",
       "      <td>0.352394</td>\n",
       "      <td>0.191209</td>\n",
       "      <td>2.0</td>\n",
       "    </tr>\n",
       "    <tr>\n",
       "      <th>0</th>\n",
       "      <td>0.010466</td>\n",
       "      <td>0.000000</td>\n",
       "      <td>0.160569</td>\n",
       "      <td>0.409021</td>\n",
       "      <td>0.619338</td>\n",
       "      <td>0.147174</td>\n",
       "      <td>0.282111</td>\n",
       "      <td>0.409574</td>\n",
       "      <td>0.527152</td>\n",
       "      <td>0.296486</td>\n",
       "      <td>...</td>\n",
       "      <td>0.207363</td>\n",
       "      <td>0.823889</td>\n",
       "      <td>0.528559</td>\n",
       "      <td>0.202127</td>\n",
       "      <td>0.000000</td>\n",
       "      <td>0.647173</td>\n",
       "      <td>0.412920</td>\n",
       "      <td>0.266200</td>\n",
       "      <td>0.168350</td>\n",
       "      <td>2.0</td>\n",
       "    </tr>\n",
       "    <tr>\n",
       "      <th>0</th>\n",
       "      <td>0.000000</td>\n",
       "      <td>0.196373</td>\n",
       "      <td>0.438858</td>\n",
       "      <td>0.714953</td>\n",
       "      <td>0.957425</td>\n",
       "      <td>0.168564</td>\n",
       "      <td>0.440325</td>\n",
       "      <td>0.673140</td>\n",
       "      <td>0.862912</td>\n",
       "      <td>0.250065</td>\n",
       "      <td>...</td>\n",
       "      <td>0.229337</td>\n",
       "      <td>0.796692</td>\n",
       "      <td>0.632724</td>\n",
       "      <td>0.265196</td>\n",
       "      <td>0.003328</td>\n",
       "      <td>0.616691</td>\n",
       "      <td>0.423486</td>\n",
       "      <td>0.210361</td>\n",
       "      <td>0.045881</td>\n",
       "      <td>2.0</td>\n",
       "    </tr>\n",
       "  </tbody>\n",
       "</table>\n",
       "<p>5 rows × 64 columns</p>\n",
       "</div>"
      ],
      "text/plain": [
       "         0         1         2         3         4         5         6   \\\n",
       "0  0.026055  0.000000  0.107609  0.247835  0.398601  0.489592  0.618835   \n",
       "0  0.000000  0.322499  0.609520  0.829921  1.000000  0.263444  0.520810   \n",
       "0  0.000000  0.000762  0.161427  0.402390  0.614149  0.080991  0.258220   \n",
       "0  0.010466  0.000000  0.160569  0.409021  0.619338  0.147174  0.282111   \n",
       "0  0.000000  0.196373  0.438858  0.714953  0.957425  0.168564  0.440325   \n",
       "\n",
       "         7         8         9   ...        54        55        56        57  \\\n",
       "0  0.509207  0.413254  0.558857  ...  0.000000  0.692860  0.264774  0.064647   \n",
       "0  0.735434  0.914113  0.192786  ...  0.008541  0.967427  0.666530  0.276842   \n",
       "0  0.422858  0.569542  0.243840  ...  0.087132  1.000000  0.606149  0.226274   \n",
       "0  0.409574  0.527152  0.296486  ...  0.207363  0.823889  0.528559  0.202127   \n",
       "0  0.673140  0.862912  0.250065  ...  0.229337  0.796692  0.632724  0.265196   \n",
       "\n",
       "         58        59        60        61        62   63  \n",
       "0  0.042940  0.478142  0.244879  0.138012  0.101530  2.0  \n",
       "0  0.031134  0.887575  0.585671  0.330568  0.158112  2.0  \n",
       "0  0.000000  0.989427  0.608881  0.352394  0.191209  2.0  \n",
       "0  0.000000  0.647173  0.412920  0.266200  0.168350  2.0  \n",
       "0  0.003328  0.616691  0.423486  0.210361  0.045881  2.0  \n",
       "\n",
       "[5 rows x 64 columns]"
      ]
     },
     "execution_count": 15,
     "metadata": {},
     "output_type": "execute_result"
    }
   ],
   "source": [
    "df.head()"
   ]
  },
  {
   "cell_type": "code",
   "execution_count": 16,
   "metadata": {},
   "outputs": [
    {
     "data": {
      "text/plain": [
       "(5878, 64)"
      ]
     },
     "execution_count": 16,
     "metadata": {},
     "output_type": "execute_result"
    }
   ],
   "source": [
    "df.shape"
   ]
  },
  {
   "cell_type": "code",
   "execution_count": 17,
   "metadata": {},
   "outputs": [
    {
     "data": {
      "text/plain": [
       "63\n",
       "0.0    2579\n",
       "2.0    1610\n",
       "3.0    1169\n",
       "1.0     520\n",
       "Name: count, dtype: int64"
      ]
     },
     "execution_count": 17,
     "metadata": {},
     "output_type": "execute_result"
    }
   ],
   "source": [
    "df[63].value_counts()"
   ]
  },
  {
   "cell_type": "markdown",
   "metadata": {},
   "source": [
    "Баланс классов удовлетворительный, сохраним датасет:\n",
    "\n"
   ]
  },
  {
   "cell_type": "code",
   "execution_count": 18,
   "metadata": {},
   "outputs": [],
   "source": [
    "df.to_csv('./data.csv', index=False)"
   ]
  },
  {
   "cell_type": "markdown",
   "metadata": {},
   "source": [
    "Ячейка для загрузки датасета из файла:"
   ]
  },
  {
   "cell_type": "code",
   "execution_count": 19,
   "metadata": {},
   "outputs": [],
   "source": [
    "df = pd.read_csv('./data.csv')\n",
    "df.columns = df.columns.astype(int)"
   ]
  },
  {
   "cell_type": "markdown",
   "metadata": {},
   "source": [
    "Разделим данные на обучающую и тестовую выборки, сделаем  \n",
    "стратификацию по таргету:"
   ]
  },
  {
   "cell_type": "code",
   "execution_count": 20,
   "metadata": {},
   "outputs": [],
   "source": [
    "X_train, X_test, y_train, y_test = train_test_split(df.iloc[:, :-1], df.iloc[:, -1], test_size=0.2, stratify=df[63], random_state=29)\n"
   ]
  },
  {
   "cell_type": "markdown",
   "metadata": {},
   "source": [
    "Обучим логистическую регрессию:"
   ]
  },
  {
   "cell_type": "code",
   "execution_count": 21,
   "metadata": {},
   "outputs": [],
   "source": [
    "\n",
    "model = LogisticRegression(max_iter=400)\n",
    "model.fit(X_train, y_train)\n",
    "preds = model.predict(X_test)"
   ]
  },
  {
   "cell_type": "markdown",
   "metadata": {},
   "source": [
    "Посмотрим на метрики:"
   ]
  },
  {
   "cell_type": "code",
   "execution_count": 22,
   "metadata": {},
   "outputs": [
    {
     "name": "stdout",
     "output_type": "stream",
     "text": [
      "              precision    recall  f1-score   support\n",
      "\n",
      "         0.0       0.98      1.00      0.99       516\n",
      "         1.0       0.99      0.98      0.99       104\n",
      "         2.0       0.98      0.99      0.99       322\n",
      "         3.0       0.99      0.95      0.97       234\n",
      "\n",
      "    accuracy                           0.99      1176\n",
      "   macro avg       0.99      0.98      0.98      1176\n",
      "weighted avg       0.99      0.99      0.99      1176\n",
      "\n"
     ]
    }
   ],
   "source": [
    "print(classification_report(y_test, preds))\n"
   ]
  },
  {
   "cell_type": "markdown",
   "metadata": {},
   "source": [
    "Модель очень хорошо научилась разделять классы.  \n",
    "Перед использованием заново обучим её на всём датасете:"
   ]
  },
  {
   "cell_type": "code",
   "execution_count": 23,
   "metadata": {},
   "outputs": [
    {
     "data": {
      "text/html": [
       "<style>#sk-container-id-1 {color: black;}#sk-container-id-1 pre{padding: 0;}#sk-container-id-1 div.sk-toggleable {background-color: white;}#sk-container-id-1 label.sk-toggleable__label {cursor: pointer;display: block;width: 100%;margin-bottom: 0;padding: 0.3em;box-sizing: border-box;text-align: center;}#sk-container-id-1 label.sk-toggleable__label-arrow:before {content: \"▸\";float: left;margin-right: 0.25em;color: #696969;}#sk-container-id-1 label.sk-toggleable__label-arrow:hover:before {color: black;}#sk-container-id-1 div.sk-estimator:hover label.sk-toggleable__label-arrow:before {color: black;}#sk-container-id-1 div.sk-toggleable__content {max-height: 0;max-width: 0;overflow: hidden;text-align: left;background-color: #f0f8ff;}#sk-container-id-1 div.sk-toggleable__content pre {margin: 0.2em;color: black;border-radius: 0.25em;background-color: #f0f8ff;}#sk-container-id-1 input.sk-toggleable__control:checked~div.sk-toggleable__content {max-height: 200px;max-width: 100%;overflow: auto;}#sk-container-id-1 input.sk-toggleable__control:checked~label.sk-toggleable__label-arrow:before {content: \"▾\";}#sk-container-id-1 div.sk-estimator input.sk-toggleable__control:checked~label.sk-toggleable__label {background-color: #d4ebff;}#sk-container-id-1 div.sk-label input.sk-toggleable__control:checked~label.sk-toggleable__label {background-color: #d4ebff;}#sk-container-id-1 input.sk-hidden--visually {border: 0;clip: rect(1px 1px 1px 1px);clip: rect(1px, 1px, 1px, 1px);height: 1px;margin: -1px;overflow: hidden;padding: 0;position: absolute;width: 1px;}#sk-container-id-1 div.sk-estimator {font-family: monospace;background-color: #f0f8ff;border: 1px dotted black;border-radius: 0.25em;box-sizing: border-box;margin-bottom: 0.5em;}#sk-container-id-1 div.sk-estimator:hover {background-color: #d4ebff;}#sk-container-id-1 div.sk-parallel-item::after {content: \"\";width: 100%;border-bottom: 1px solid gray;flex-grow: 1;}#sk-container-id-1 div.sk-label:hover label.sk-toggleable__label {background-color: #d4ebff;}#sk-container-id-1 div.sk-serial::before {content: \"\";position: absolute;border-left: 1px solid gray;box-sizing: border-box;top: 0;bottom: 0;left: 50%;z-index: 0;}#sk-container-id-1 div.sk-serial {display: flex;flex-direction: column;align-items: center;background-color: white;padding-right: 0.2em;padding-left: 0.2em;position: relative;}#sk-container-id-1 div.sk-item {position: relative;z-index: 1;}#sk-container-id-1 div.sk-parallel {display: flex;align-items: stretch;justify-content: center;background-color: white;position: relative;}#sk-container-id-1 div.sk-item::before, #sk-container-id-1 div.sk-parallel-item::before {content: \"\";position: absolute;border-left: 1px solid gray;box-sizing: border-box;top: 0;bottom: 0;left: 50%;z-index: -1;}#sk-container-id-1 div.sk-parallel-item {display: flex;flex-direction: column;z-index: 1;position: relative;background-color: white;}#sk-container-id-1 div.sk-parallel-item:first-child::after {align-self: flex-end;width: 50%;}#sk-container-id-1 div.sk-parallel-item:last-child::after {align-self: flex-start;width: 50%;}#sk-container-id-1 div.sk-parallel-item:only-child::after {width: 0;}#sk-container-id-1 div.sk-dashed-wrapped {border: 1px dashed gray;margin: 0 0.4em 0.5em 0.4em;box-sizing: border-box;padding-bottom: 0.4em;background-color: white;}#sk-container-id-1 div.sk-label label {font-family: monospace;font-weight: bold;display: inline-block;line-height: 1.2em;}#sk-container-id-1 div.sk-label-container {text-align: center;}#sk-container-id-1 div.sk-container {/* jupyter's `normalize.less` sets `[hidden] { display: none; }` but bootstrap.min.css set `[hidden] { display: none !important; }` so we also need the `!important` here to be able to override the default hidden behavior on the sphinx rendered scikit-learn.org. See: https://github.com/scikit-learn/scikit-learn/issues/21755 */display: inline-block !important;position: relative;}#sk-container-id-1 div.sk-text-repr-fallback {display: none;}</style><div id=\"sk-container-id-1\" class=\"sk-top-container\"><div class=\"sk-text-repr-fallback\"><pre>LogisticRegression(max_iter=400)</pre><b>In a Jupyter environment, please rerun this cell to show the HTML representation or trust the notebook. <br />On GitHub, the HTML representation is unable to render, please try loading this page with nbviewer.org.</b></div><div class=\"sk-container\" hidden><div class=\"sk-item\"><div class=\"sk-estimator sk-toggleable\"><input class=\"sk-toggleable__control sk-hidden--visually\" id=\"sk-estimator-id-1\" type=\"checkbox\" checked><label for=\"sk-estimator-id-1\" class=\"sk-toggleable__label sk-toggleable__label-arrow\">LogisticRegression</label><div class=\"sk-toggleable__content\"><pre>LogisticRegression(max_iter=400)</pre></div></div></div></div></div>"
      ],
      "text/plain": [
       "LogisticRegression(max_iter=400)"
      ]
     },
     "execution_count": 23,
     "metadata": {},
     "output_type": "execute_result"
    }
   ],
   "source": [
    "model.fit(df.iloc[:, :-1], df.iloc[:, -1])\n"
   ]
  },
  {
   "cell_type": "markdown",
   "metadata": {},
   "source": [
    "Теперь у нас есть всё для работы программы. Будем брать изображение  \n",
    "с веб-камеры и детектировать на нём лицо. Если лицо не обнаружено, то  \n",
    "выводится соответствующее сообщение. Если обнаружено, то производится  \n",
    "поиск жеста. При обнаружении жеста, координаты особых точек передаются  \n",
    "модели классификации, и, в зависимости от жеста, на экран выводится  \n",
    "соответствующее сообщение"
   ]
  },
  {
   "cell_type": "code",
   "execution_count": null,
   "metadata": {},
   "outputs": [],
   "source": [
    "cap = cv2.VideoCapture(0)\n",
    "\n",
    "with mp_face_detection.FaceDetection() as face_detection:\n",
    "    with mp_hands.Hands(max_num_hands=1) as hands:\n",
    "        while cap.isOpened():\n",
    "            success, image = cap.read()\n",
    "            if not success:\n",
    "                print('Ignoring empty camera frame.')\n",
    "                continue\n",
    "\n",
    "            image = cv2.cvtColor(image, cv2.COLOR_BGR2RGB)\n",
    "            results = face_detection.process(image)\n",
    "            \n",
    "            # Несмотря на наличие параметра min_detection_confidence у FaceDetection(), он,  \n",
    "            # похоже, не работает. Поэтому зададим порог уверенности вручную (0,85), чтобы  \n",
    "            # избежать ложных срабатываний детектирования лица\n",
    "            if results.detections and MessageToDict(results.detections[0])['score'][0] > 0.85:\n",
    "                \n",
    "                results = hands.process(image)\n",
    "                \n",
    "                if results.multi_hand_landmarks:\n",
    "                    gesture = model.predict_proba(landmarks_to_df(results.multi_hand_landmarks))[0]\n",
    "                    \n",
    "                    if max(gesture) > 0.5:\n",
    "                        gesture = np.argmax(gesture)\n",
    "                        \n",
    "                        match gesture:\n",
    "                            case 0:\n",
    "                                text = 'Unknown sign!'\n",
    "                            case 1:\n",
    "                                text = 'Hello!'\n",
    "                            case 2:\n",
    "                                text = 'OK!'\n",
    "                            case 3:\n",
    "                                text = 'Scary!'\n",
    "                    \n",
    "                    # Если модель не уверена во всех классах, но фреймворк всё равно находит жест,\n",
    "                    # на экран будет выводиться сообщение\n",
    "                    else:\n",
    "                        text = 'Is it a sign?'\n",
    "            \n",
    "                \n",
    "                    cv2.putText(image, text, (170, 50),\n",
    "                                cv2.FONT_HERSHEY_COMPLEX,\n",
    "                                1.3, (0, 0, 255), 2)\n",
    "            \n",
    "            else:\n",
    "                cv2.putText(image, 'Is anyone here?', (170, 50),\n",
    "                            cv2.FONT_HERSHEY_COMPLEX,\n",
    "                            1.3, (0, 0, 255), 2)\n",
    "            \n",
    "            image = cv2.cvtColor(image, cv2.COLOR_RGB2BGR)\n",
    "            cv2.imshow('MediaPipe Hands', image)\n",
    "            if cv2.waitKey(5) & 0xFF == 27:\n",
    "                break\n",
    "\n",
    "cap.release()\n",
    "cv2.destroyAllWindows()"
   ]
  }
 ],
 "metadata": {
  "kernelspec": {
   "display_name": "Python 3",
   "language": "python",
   "name": "python3"
  },
  "language_info": {
   "codemirror_mode": {
    "name": "ipython",
    "version": 3
   },
   "file_extension": ".py",
   "mimetype": "text/x-python",
   "name": "python",
   "nbconvert_exporter": "python",
   "pygments_lexer": "ipython3",
   "version": "3.10.12"
  },
  "orig_nbformat": 4
 },
 "nbformat": 4,
 "nbformat_minor": 2
}
